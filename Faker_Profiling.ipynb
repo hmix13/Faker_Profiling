{
 "cells": [
  {
   "cell_type": "code",
   "execution_count": 4,
   "metadata": {},
   "outputs": [],
   "source": [
    "from faker import Faker"
   ]
  },
  {
   "cell_type": "code",
   "execution_count": 5,
   "metadata": {},
   "outputs": [],
   "source": [
    "data= Faker()"
   ]
  },
  {
   "cell_type": "code",
   "execution_count": 6,
   "metadata": {},
   "outputs": [
    {
     "data": {
      "text/plain": [
       "'Andrew Baker'"
      ]
     },
     "execution_count": 6,
     "metadata": {},
     "output_type": "execute_result"
    }
   ],
   "source": [
    "data.name()"
   ]
  },
  {
   "cell_type": "code",
   "execution_count": 7,
   "metadata": {},
   "outputs": [
    {
     "data": {
      "text/plain": [
       "'7822 George Spring\\nPorterside, LA 46547'"
      ]
     },
     "execution_count": 7,
     "metadata": {},
     "output_type": "execute_result"
    }
   ],
   "source": [
    "data.address()"
   ]
  },
  {
   "cell_type": "code",
   "execution_count": 8,
   "metadata": {},
   "outputs": [
    {
     "data": {
      "text/plain": [
       "'Social stage would consumer new. Four order unit quickly. Letter wide long material.\\nReceive glass president room world land. Evening minute institution question. Together imagine American cost born.'"
      ]
     },
     "execution_count": 8,
     "metadata": {},
     "output_type": "execute_result"
    }
   ],
   "source": [
    "data.text()"
   ]
  },
  {
   "cell_type": "code",
   "execution_count": 9,
   "metadata": {},
   "outputs": [
    {
     "data": {
      "text/plain": [
       "datetime.date(1964, 3, 9)"
      ]
     },
     "execution_count": 9,
     "metadata": {},
     "output_type": "execute_result"
    }
   ],
   "source": [
    "data.date_of_birth()"
   ]
  },
  {
   "cell_type": "code",
   "execution_count": 10,
   "metadata": {},
   "outputs": [
    {
     "name": "stdout",
     "output_type": "stream",
     "text": [
      "श्री पाटिल\n",
      "Jessica Harmon\n",
      "रोहन चौहान\n",
      "박순옥\n",
      "महाजन, हासन\n",
      "Erin Davila\n",
      "अनुपम आचार्य\n",
      "배지원\n",
      "अंकुर शर्मा\n",
      "김준혁\n"
     ]
    }
   ],
   "source": [
    "data = Faker(['hi_IN', 'en_US', 'ko_KR'])\n",
    "for i in range(10):\n",
    "    print(data.name())"
   ]
  },
  {
   "cell_type": "code",
   "execution_count": 11,
   "metadata": {},
   "outputs": [
    {
     "data": {
      "text/plain": [
       "{'job': 'Curator',\n",
       " 'company': 'Davis LLC',\n",
       " 'ssn': '682-30-8996',\n",
       " 'residence': '9953 Vargas Track\\nMcleanborough, MD 21613',\n",
       " 'current_location': (Decimal('89.1841755'), Decimal('19.514171')),\n",
       " 'blood_group': 'AB-',\n",
       " 'website': ['http://www.smith-jacobs.com/',\n",
       "  'https://mckenzie.com/',\n",
       "  'http://marshall.com/',\n",
       "  'http://bell.info/'],\n",
       " 'username': 'ypeterson',\n",
       " 'name': 'Patrick Tucker',\n",
       " 'sex': 'M',\n",
       " 'address': '759 Reyes Well Suite 186\\nSouth Meganland, MA 44805',\n",
       " 'mail': 'brandy37@hotmail.com',\n",
       " 'birthdate': datetime.date(1936, 2, 20)}"
      ]
     },
     "execution_count": 11,
     "metadata": {},
     "output_type": "execute_result"
    }
   ],
   "source": [
    "data.profile()"
   ]
  },
  {
   "cell_type": "code",
   "execution_count": 12,
   "metadata": {},
   "outputs": [
    {
     "data": {
      "text/html": [
       "<div>\n",
       "<style scoped>\n",
       "    .dataframe tbody tr th:only-of-type {\n",
       "        vertical-align: middle;\n",
       "    }\n",
       "\n",
       "    .dataframe tbody tr th {\n",
       "        vertical-align: top;\n",
       "    }\n",
       "\n",
       "    .dataframe thead th {\n",
       "        text-align: right;\n",
       "    }\n",
       "</style>\n",
       "<table border=\"1\" class=\"dataframe\">\n",
       "  <thead>\n",
       "    <tr style=\"text-align: right;\">\n",
       "      <th></th>\n",
       "      <th>job</th>\n",
       "      <th>company</th>\n",
       "      <th>ssn</th>\n",
       "      <th>residence</th>\n",
       "      <th>current_location</th>\n",
       "      <th>blood_group</th>\n",
       "      <th>website</th>\n",
       "      <th>username</th>\n",
       "      <th>name</th>\n",
       "      <th>sex</th>\n",
       "      <th>address</th>\n",
       "      <th>mail</th>\n",
       "      <th>birthdate</th>\n",
       "    </tr>\n",
       "  </thead>\n",
       "  <tbody>\n",
       "    <tr>\n",
       "      <th>0</th>\n",
       "      <td>청원 경찰</td>\n",
       "      <td>심문</td>\n",
       "      <td>140416-2233170</td>\n",
       "      <td>세종특별자치시 동대문구 선릉575가</td>\n",
       "      <td>(19.1916095, -39.935879)</td>\n",
       "      <td>AB+</td>\n",
       "      <td>[http://www.gimgimi.kr/]</td>\n",
       "      <td>minsu64</td>\n",
       "      <td>김경수</td>\n",
       "      <td>M</td>\n",
       "      <td>세종특별자치시 성북구 가락695로</td>\n",
       "      <td>migyeongsong@live.com</td>\n",
       "      <td>1914-05-11</td>\n",
       "    </tr>\n",
       "    <tr>\n",
       "      <th>1</th>\n",
       "      <td>Aeronautical engineer</td>\n",
       "      <td>Williams-Thornton</td>\n",
       "      <td>546-55-3697</td>\n",
       "      <td>2319 Brown Mountains Apt. 272\\nKathleenmouth, ...</td>\n",
       "      <td>(-80.533431, -36.805920)</td>\n",
       "      <td>O-</td>\n",
       "      <td>[https://murray-fitzpatrick.org/, https://www....</td>\n",
       "      <td>ocollins</td>\n",
       "      <td>Karen Morales</td>\n",
       "      <td>F</td>\n",
       "      <td>6137 Payne Meadows\\nEast Jessicabury, DC 59526</td>\n",
       "      <td>wattskathryn@hotmail.com</td>\n",
       "      <td>1917-08-21</td>\n",
       "    </tr>\n",
       "    <tr>\n",
       "      <th>2</th>\n",
       "      <td>Horticulturist, commercial</td>\n",
       "      <td>Barnett, Hicks and Wood</td>\n",
       "      <td>540-89-6847</td>\n",
       "      <td>79725 Michael Ranch Apt. 425\\nTuckerport, MT 7...</td>\n",
       "      <td>(-41.192302, 5.256728)</td>\n",
       "      <td>O+</td>\n",
       "      <td>[https://walton-dyer.info/]</td>\n",
       "      <td>david55</td>\n",
       "      <td>Christopher Bell</td>\n",
       "      <td>M</td>\n",
       "      <td>7720 Tyler Forge\\nVasquezberg, IA 75053</td>\n",
       "      <td>igalloway@yahoo.com</td>\n",
       "      <td>1971-12-17</td>\n",
       "    </tr>\n",
       "    <tr>\n",
       "      <th>3</th>\n",
       "      <td>판사 및 검사</td>\n",
       "      <td>(주) 남박김</td>\n",
       "      <td>970406-2702228</td>\n",
       "      <td>제주특별자치도 제천시 가락058가</td>\n",
       "      <td>(63.669665, 24.835302)</td>\n",
       "      <td>O+</td>\n",
       "      <td>[https://ijo.net/]</td>\n",
       "      <td>ujunyeong</td>\n",
       "      <td>이선영</td>\n",
       "      <td>F</td>\n",
       "      <td>서울특별시 노원구 영동대627가</td>\n",
       "      <td>ji@naver.com</td>\n",
       "      <td>1915-09-02</td>\n",
       "    </tr>\n",
       "    <tr>\n",
       "      <th>4</th>\n",
       "      <td>Recruitment consultant</td>\n",
       "      <td>Boyer, Dudley and Martin</td>\n",
       "      <td>153-96-7787</td>\n",
       "      <td>8465 Adrian Shore\\nPenachester, IN 88840</td>\n",
       "      <td>(62.7752435, 35.814368)</td>\n",
       "      <td>B+</td>\n",
       "      <td>[https://www.bailey.com/, http://brown.info/, ...</td>\n",
       "      <td>jeremyhall</td>\n",
       "      <td>Ashley Jackson</td>\n",
       "      <td>F</td>\n",
       "      <td>970 Hamilton Squares\\nGregoryfort, GA 40910</td>\n",
       "      <td>hvega@yahoo.com</td>\n",
       "      <td>1970-11-09</td>\n",
       "    </tr>\n",
       "  </tbody>\n",
       "</table>\n",
       "</div>"
      ],
      "text/plain": [
       "                          job                   company             ssn  \\\n",
       "0                       청원 경찰                        심문  140416-2233170   \n",
       "1       Aeronautical engineer         Williams-Thornton     546-55-3697   \n",
       "2  Horticulturist, commercial   Barnett, Hicks and Wood     540-89-6847   \n",
       "3                     판사 및 검사                   (주) 남박김  970406-2702228   \n",
       "4      Recruitment consultant  Boyer, Dudley and Martin     153-96-7787   \n",
       "\n",
       "                                           residence  \\\n",
       "0                                세종특별자치시 동대문구 선릉575가   \n",
       "1  2319 Brown Mountains Apt. 272\\nKathleenmouth, ...   \n",
       "2  79725 Michael Ranch Apt. 425\\nTuckerport, MT 7...   \n",
       "3                                 제주특별자치도 제천시 가락058가   \n",
       "4           8465 Adrian Shore\\nPenachester, IN 88840   \n",
       "\n",
       "           current_location blood_group  \\\n",
       "0  (19.1916095, -39.935879)         AB+   \n",
       "1  (-80.533431, -36.805920)          O-   \n",
       "2    (-41.192302, 5.256728)          O+   \n",
       "3    (63.669665, 24.835302)          O+   \n",
       "4   (62.7752435, 35.814368)          B+   \n",
       "\n",
       "                                             website    username  \\\n",
       "0                           [http://www.gimgimi.kr/]     minsu64   \n",
       "1  [https://murray-fitzpatrick.org/, https://www....    ocollins   \n",
       "2                        [https://walton-dyer.info/]     david55   \n",
       "3                                 [https://ijo.net/]   ujunyeong   \n",
       "4  [https://www.bailey.com/, http://brown.info/, ...  jeremyhall   \n",
       "\n",
       "               name sex                                         address  \\\n",
       "0               김경수   M                              세종특별자치시 성북구 가락695로   \n",
       "1     Karen Morales   F  6137 Payne Meadows\\nEast Jessicabury, DC 59526   \n",
       "2  Christopher Bell   M         7720 Tyler Forge\\nVasquezberg, IA 75053   \n",
       "3               이선영   F                               서울특별시 노원구 영동대627가   \n",
       "4    Ashley Jackson   F     970 Hamilton Squares\\nGregoryfort, GA 40910   \n",
       "\n",
       "                       mail   birthdate  \n",
       "0     migyeongsong@live.com  1914-05-11  \n",
       "1  wattskathryn@hotmail.com  1917-08-21  \n",
       "2       igalloway@yahoo.com  1971-12-17  \n",
       "3              ji@naver.com  1915-09-02  \n",
       "4           hvega@yahoo.com  1970-11-09  "
      ]
     },
     "execution_count": 12,
     "metadata": {},
     "output_type": "execute_result"
    }
   ],
   "source": [
    "import pandas as pd\n",
    "dataset = [data.profile() for i in range(100)]\n",
    "df = pd.DataFrame(dataset)\n",
    "df.head()"
   ]
  },
  {
   "cell_type": "code",
   "execution_count": 15,
   "metadata": {},
   "outputs": [],
   "source": [
    "df.to_csv('fake_profile.csv')"
   ]
  },
  {
   "cell_type": "code",
   "execution_count": 14,
   "metadata": {},
   "outputs": [
    {
     "data": {
      "application/vnd.jupyter.widget-view+json": {
       "model_id": "b4c8fd3532d5482a8796a1b65c015cf6",
       "version_major": 2,
       "version_minor": 0
      },
      "text/plain": [
       "HBox(children=(FloatProgress(value=0.0, description='Summarize dataset', max=27.0, style=ProgressStyle(descrip…"
      ]
     },
     "metadata": {},
     "output_type": "display_data"
    },
    {
     "name": "stdout",
     "output_type": "stream",
     "text": [
      "\n"
     ]
    },
    {
     "data": {
      "application/vnd.jupyter.widget-view+json": {
       "model_id": "b4a74c44153349f9a3cfdda0454c2446",
       "version_major": 2,
       "version_minor": 0
      },
      "text/plain": [
       "HBox(children=(FloatProgress(value=0.0, description='Generate report structure', max=1.0, style=ProgressStyle(…"
      ]
     },
     "metadata": {},
     "output_type": "display_data"
    },
    {
     "name": "stdout",
     "output_type": "stream",
     "text": [
      "\n"
     ]
    },
    {
     "data": {
      "application/vnd.jupyter.widget-view+json": {
       "model_id": "951b0ef98757409291727edd80179a3b",
       "version_major": 2,
       "version_minor": 0
      },
      "text/plain": [
       "HBox(children=(FloatProgress(value=0.0, description='Render HTML', max=1.0, style=ProgressStyle(description_wi…"
      ]
     },
     "metadata": {},
     "output_type": "display_data"
    },
    {
     "name": "stdout",
     "output_type": "stream",
     "text": [
      "\n"
     ]
    },
    {
     "data": {
      "application/vnd.jupyter.widget-view+json": {
       "model_id": "dd46885d00b84cb3915f83bfd188d7e4",
       "version_major": 2,
       "version_minor": 0
      },
      "text/plain": [
       "HBox(children=(FloatProgress(value=0.0, description='Export report to file', max=1.0, style=ProgressStyle(desc…"
      ]
     },
     "metadata": {},
     "output_type": "display_data"
    },
    {
     "name": "stdout",
     "output_type": "stream",
     "text": [
      "\n"
     ]
    }
   ],
   "source": [
    "from pandas_profiling import ProfileReport\n",
    "fake_prof = ProfileReport(df)\n",
    "fake_prof.to_file(output_file='fake_profiling.html')"
   ]
  },
  {
   "cell_type": "code",
   "execution_count": null,
   "metadata": {},
   "outputs": [],
   "source": []
  }
 ],
 "metadata": {
  "kernelspec": {
   "display_name": "Python 3",
   "language": "python",
   "name": "python3"
  }
 },
 "nbformat": 4,
 "nbformat_minor": 4
}
